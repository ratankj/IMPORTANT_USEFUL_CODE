{
 "cells": [
  {
   "cell_type": "code",
   "execution_count": 1,
   "metadata": {},
   "outputs": [],
   "source": [
    "import pandas as pd"
   ]
  },
  {
   "cell_type": "code",
   "execution_count": null,
   "metadata": {},
   "outputs": [],
   "source": []
  },
  {
   "cell_type": "markdown",
   "metadata": {},
   "source": [
    "### move from one location to other location\n",
    "\n"
   ]
  },
  {
   "cell_type": "markdown",
   "metadata": {},
   "source": []
  },
  {
   "cell_type": "code",
   "execution_count": null,
   "metadata": {},
   "outputs": [],
   "source": [
    "import os\n",
    "import shutil\n",
    "\n",
    "file_path = r'C:\\Users\\Ratan Kumar Jha\\Desktop\\BILLING_REQUEST_AND_REPLY\\DOWNLOAD FROM FTP'\n",
    "output_path = r'C:\\Users\\Ratan Kumar Jha\\Desktop\\BILLING_REQUEST_AND_REPLY\\Billing_request\\BillingRequest'\n",
    "\n",
    "for file in os.listdir(file_path):\n",
    "    if file[17:23] == '202407':\n",
    "        full_file_path = os.path.join(file_path, file)\n",
    "        shutil.move(full_file_path, output_path)\n",
    "        print(f\"Moved: {file}\")\n"
   ]
  },
  {
   "cell_type": "code",
   "execution_count": null,
   "metadata": {},
   "outputs": [],
   "source": []
  },
  {
   "cell_type": "markdown",
   "metadata": {},
   "source": [
    "### to create a new folder"
   ]
  },
  {
   "cell_type": "code",
   "execution_count": null,
   "metadata": {},
   "outputs": [],
   "source": [
    "# CREATEING FOLDER\n",
    "import os\n",
    "\n",
    "def create_folders(base_path, *folder_names):\n",
    "    for folder_name in folder_names:\n",
    "        new_folder_path = os.path.join(base_path, folder_name)\n",
    "        os.makedirs(new_folder_path, exist_ok=True)\n",
    "\n",
    "# Usage\n",
    "base_path = r\"C:\\Users\\Ratan Kumar Jha\\Desktop\\MAIL_AUTO_DATA_DOWNLOAD\"\n",
    "folder_names = [\"SIM_LATCH_FILE\", \"OUTAGE_REPORT\", \"CONSOLIDATED_CONSUMPTION_DATA\"]\n",
    "create_folders(base_path, *folder_names)\n"
   ]
  },
  {
   "cell_type": "code",
   "execution_count": null,
   "metadata": {},
   "outputs": [],
   "source": []
  },
  {
   "cell_type": "code",
   "execution_count": null,
   "metadata": {},
   "outputs": [],
   "source": []
  },
  {
   "cell_type": "code",
   "execution_count": null,
   "metadata": {},
   "outputs": [],
   "source": []
  },
  {
   "cell_type": "code",
   "execution_count": null,
   "metadata": {},
   "outputs": [],
   "source": []
  },
  {
   "cell_type": "code",
   "execution_count": null,
   "metadata": {},
   "outputs": [],
   "source": []
  }
 ],
 "metadata": {
  "kernelspec": {
   "display_name": "Python 3",
   "language": "python",
   "name": "python3"
  },
  "language_info": {
   "codemirror_mode": {
    "name": "ipython",
    "version": 3
   },
   "file_extension": ".py",
   "mimetype": "text/x-python",
   "name": "python",
   "nbconvert_exporter": "python",
   "pygments_lexer": "ipython3",
   "version": "3.9.19"
  }
 },
 "nbformat": 4,
 "nbformat_minor": 2
}
